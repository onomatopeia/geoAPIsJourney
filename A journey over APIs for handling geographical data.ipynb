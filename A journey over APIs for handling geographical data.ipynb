{
 "cells": [
  {
   "cell_type": "markdown",
   "metadata": {},
   "source": [
    "# A journey over APIs for handling geographical data"
   ]
  },
  {
   "cell_type": "markdown",
   "metadata": {
    "slideshow": {
     "slide_type": "slide"
    }
   },
   "source": [
    "## OpenStreetMap\n",
    "\n",
    "http://openstreetmap.org"
   ]
  },
  {
   "cell_type": "code",
   "execution_count": 4,
   "metadata": {},
   "outputs": [
    {
     "name": "stdout",
     "output_type": "stream",
     "text": [
      "UTF-8\n",
      "cp1252\n"
     ]
    }
   ],
   "source": [
    "import sys\n",
    "print(sys.stdout.encoding)\n",
    "print(sys.stdin.encoding)\n"
   ]
  },
  {
   "cell_type": "markdown",
   "metadata": {
    "slideshow": {
     "slide_type": "slide"
    }
   },
   "source": [
    "## Geocoding and reverse geocoding\n",
    "\n",
    "1. Geocoding: address or place name -> latitude, longitude\n",
    "2. Reverse geocoding: latitude, longitude -> readable address or place name"
   ]
  },
  {
   "cell_type": "markdown",
   "metadata": {
    "slideshow": {
     "slide_type": "subslide"
    }
   },
   "source": [
    "## Nominatim\n",
    "\n",
    "Nominatim https://wiki.openstreetmap.org/wiki/Nominatim \n",
    "\n",
    "Note: Nominatim requires each application to provide their own custom user-agent. See their usage policy: https://operations.osmfoundation.org/policies/nominatim/\n",
    "\n",
    "Since Nominatim is a regular webservice we can query it using `requests` Python package."
   ]
  },
  {
   "cell_type": "code",
   "execution_count": 5,
   "metadata": {
    "collapsed": true
   },
   "outputs": [],
   "source": [
    "import requests\n",
    "\n",
    "def _query(url, params):\n",
    "    # required by Nominatim usage policy\n",
    "    headers = {\n",
    "        'User-Agent': 'Pyladies Berlin'\n",
    "    }\n",
    "    resp = requests.get(url, params, headers=headers)\n",
    "    if resp.status_code == requests.codes.ok:\n",
    "        return resp.json()\n",
    "    resp.raise_for_status()\n",
    "\n",
    "# geocoding\n",
    "def nominatim_search(address):\n",
    "    address = address.replace(' ', '%20')\n",
    "    url = 'http://nominatim.openstreetmap.org/search/{}'.format(address)\n",
    "    params = dict(format='jsonv2', addressdetails=1, limit=1)\n",
    "    return _query(url, params)\n",
    "    \n",
    "# reverse geocoding\n",
    "def nominatim_reverse(lat, lon):\n",
    "    url = 'http://nominatim.openstreetmap.org/reverse'\n",
    "    params = dict(format='jsonv2', lat=lat, lon=lon, addressdetails=1, limit=1)\n",
    "    return _query(url, params)"
   ]
  },
  {
   "cell_type": "markdown",
   "metadata": {},
   "source": [
    "### Geocoding"
   ]
  },
  {
   "cell_type": "code",
   "execution_count": 6,
   "metadata": {
    "slideshow": {
     "slide_type": "fragment"
    }
   },
   "outputs": [
    {
     "name": "stdout",
     "output_type": "stream",
     "text": [
      "[\n",
      "  {\n",
      "    \"place_id\": \"69085508\",\n",
      "    \"licence\": \"Data \\u00a9 OpenStreetMap contributors, ODbL 1.0. https://osm.org/copyright\",\n",
      "    \"osm_type\": \"way\",\n",
      "    \"osm_id\": \"11845212\",\n",
      "    \"boundingbox\": [\n",
      "      \"52.508628\",\n",
      "      \"52.5089126\",\n",
      "      \"13.3769102\",\n",
      "      \"13.3771842\"\n",
      "    ],\n",
      "    \"lat\": \"52.5087317\",\n",
      "    \"lon\": \"13.3770476\",\n",
      "    \"display_name\": \"Potsdamer Platz, Mitte, Berlin, 10117, Deutschland\",\n",
      "    \"place_rank\": \"26\",\n",
      "    \"category\": \"highway\",\n",
      "    \"type\": \"secondary\",\n",
      "    \"importance\": 0.39312074059012,\n",
      "    \"address\": {\n",
      "      \"road\": \"Potsdamer Platz\",\n",
      "      \"suburb\": \"Mitte\",\n",
      "      \"city_district\": \"Mitte\",\n",
      "      \"city\": \"Berlin\",\n",
      "      \"state\": \"Berlin\",\n",
      "      \"postcode\": \"10117\",\n",
      "      \"country\": \"Deutschland\",\n",
      "      \"country_code\": \"de\"\n",
      "    }\n",
      "  }\n",
      "]\n"
     ]
    }
   ],
   "source": [
    "import json\n",
    "some_json = nominatim_search('potsdamer platz, berlin')\n",
    "print(json.dumps(some_json, indent=2))\n",
    "    "
   ]
  },
  {
   "cell_type": "markdown",
   "metadata": {},
   "source": [
    "### Reverse geocoding"
   ]
  },
  {
   "cell_type": "code",
   "execution_count": 7,
   "metadata": {},
   "outputs": [
    {
     "name": "stdout",
     "output_type": "stream",
     "text": [
      "{\n",
      "  \"place_id\": \"3790255\",\n",
      "  \"licence\": \"Data \\u00a9 OpenStreetMap contributors, ODbL 1.0. https://osm.org/copyright\",\n",
      "  \"osm_type\": \"node\",\n",
      "  \"osm_id\": \"380497986\",\n",
      "  \"lat\": \"52.508862\",\n",
      "  \"lon\": \"13.3771323\",\n",
      "  \"place_rank\": \"30\",\n",
      "  \"category\": \"shop\",\n",
      "  \"type\": \"hairdresser\",\n",
      "  \"importance\": \"0\",\n",
      "  \"addresstype\": \"shop\",\n",
      "  \"name\": \"D. Machts Lounge\",\n",
      "  \"display_name\": \"D. Machts Lounge, Potsdamer Platz, Mitte, Berlin, 10117, Deutschland\",\n",
      "  \"address\": {\n",
      "    \"hairdresser\": \"D. Machts Lounge\",\n",
      "    \"road\": \"Potsdamer Platz\",\n",
      "    \"suburb\": \"Mitte\",\n",
      "    \"city_district\": \"Mitte\",\n",
      "    \"city\": \"Berlin\",\n",
      "    \"state\": \"Berlin\",\n",
      "    \"postcode\": \"10117\",\n",
      "    \"country\": \"Deutschland\",\n",
      "    \"country_code\": \"de\"\n",
      "  },\n",
      "  \"boundingbox\": [\n",
      "    \"52.508762\",\n",
      "    \"52.508962\",\n",
      "    \"13.3770323\",\n",
      "    \"13.3772323\"\n",
      "  ]\n",
      "}\n"
     ]
    }
   ],
   "source": [
    "lat = '52.5087317'\n",
    "lon = '13.3770476'\n",
    "\n",
    "reverse = nominatim_reverse(lat, lon)\n",
    "print(json.dumps(reverse, indent=2))"
   ]
  },
  {
   "cell_type": "markdown",
   "metadata": {
    "slideshow": {
     "slide_type": "slide"
    }
   },
   "source": [
    "## GeoPy\n",
    "\n",
    "https://geopy.readthedocs.io/en/stable/"
   ]
  },
  {
   "cell_type": "markdown",
   "metadata": {
    "slideshow": {
     "slide_type": "subslide"
    }
   },
   "source": [
    "### Geocoding"
   ]
  },
  {
   "cell_type": "code",
   "execution_count": 14,
   "metadata": {
    "slideshow": {
     "slide_type": "subslide"
    }
   },
   "outputs": [
    {
     "name": "stdout",
     "output_type": "stream",
     "text": [
      "{\n",
      "  \"place_id\": \"45157935\",\n",
      "  \"licence\": \"Data \\u00a9 OpenStreetMap contributors, ODbL 1.0. https://osm.org/copyright\",\n",
      "  \"osm_type\": \"node\",\n",
      "  \"osm_id\": \"3213617576\",\n",
      "  \"boundingbox\": [\n",
      "    \"52.5141169\",\n",
      "    \"52.5142169\",\n",
      "    \"13.3963086\",\n",
      "    \"13.3964086\"\n",
      "  ],\n",
      "  \"lat\": \"52.5141669\",\n",
      "  \"lon\": \"13.3963586\",\n",
      "  \"display_name\": \"32, J\\u00e4gerstra\\u00dfe, Spandauer Vorstadt, Mitte, Berlin, 10117, Germany\",\n",
      "  \"class\": \"place\",\n",
      "  \"type\": \"house\",\n",
      "  \"importance\": 0.44025\n",
      "}\n"
     ]
    }
   ],
   "source": [
    "from geopy.geocoders import Nominatim\n",
    "import json \n",
    "\n",
    "geolocator = Nominatim(user_agent=\"pyladies-berlin\")\n",
    "location = geolocator.geocode(u\"Jägerstraße 32, 10117 Berlin\", language='en')\n",
    "print(json.dumps(location.raw, indent=2))"
   ]
  },
  {
   "cell_type": "code",
   "execution_count": 15,
   "metadata": {
    "slideshow": {
     "slide_type": "fragment"
    }
   },
   "outputs": [
    {
     "name": "stdout",
     "output_type": "stream",
     "text": [
      "32, Jägerstraße, Spandauer Vorstadt, Mitte, Berlin, 10117, Germany\n"
     ]
    }
   ],
   "source": [
    "print(location.address)"
   ]
  },
  {
   "cell_type": "code",
   "execution_count": 16,
   "metadata": {
    "slideshow": {
     "slide_type": "fragment"
    }
   },
   "outputs": [
    {
     "name": "stdout",
     "output_type": "stream",
     "text": [
      "52.5141669\n"
     ]
    }
   ],
   "source": [
    "king_latitude = location.latitude\n",
    "print(king_latitude)"
   ]
  },
  {
   "cell_type": "code",
   "execution_count": 17,
   "metadata": {
    "slideshow": {
     "slide_type": "fragment"
    }
   },
   "outputs": [
    {
     "name": "stdout",
     "output_type": "stream",
     "text": [
      "13.3963586\n"
     ]
    }
   ],
   "source": [
    "king_longitude = location.longitude\n",
    "print(king_longitude)"
   ]
  },
  {
   "cell_type": "markdown",
   "metadata": {
    "slideshow": {
     "slide_type": "subslide"
    }
   },
   "source": [
    "### Reverse geocoding\n",
    "\n",
    "For reverse geocoding to work with geopy 1.12 we need the hack described in here:\n",
    "https://github.com/geopy/geopy/issues/262"
   ]
  },
  {
   "cell_type": "code",
   "execution_count": 11,
   "metadata": {
    "collapsed": true,
    "slideshow": {
     "slide_type": "fragment"
    }
   },
   "outputs": [],
   "source": [
    "from geopy.geocoders import Nominatim\n",
    "from urllib.request import Request\n",
    "\n",
    "def get_geolocator():\n",
    "    # Solution from https://github.com/geopy/geopy/issues/262\n",
    "    geolocator = Nominatim(\"pyladies-berlin\")\n",
    "\n",
    "    requester = geolocator.urlopen\n",
    "\n",
    "    def requester_hack(req, **kwargs):\n",
    "        req = Request(url=req, headers=geolocator.headers)\n",
    "        return requester(req, **kwargs)\n",
    "\n",
    "    geolocator.urlopen = requester_hack\n",
    "\n",
    "    return geolocator\n",
    "\n",
    "location = get_geolocator().reverse(\"{}, {}\".format(king_latitude, king_longitude))\n",
    "address = location.address"
   ]
  },
  {
   "cell_type": "code",
   "execution_count": 12,
   "metadata": {
    "slideshow": {
     "slide_type": "fragment"
    }
   },
   "outputs": [
    {
     "name": "stdout",
     "output_type": "stream",
     "text": [
      "32, Jägerstraße, Spandauer Vorstadt, Mitte, Berlin, 10117, Deutschland\n"
     ]
    }
   ],
   "source": [
    "print(address)"
   ]
  },
  {
   "cell_type": "markdown",
   "metadata": {
    "slideshow": {
     "slide_type": "slide"
    }
   },
   "source": [
    "## Overpass API\n",
    "\n",
    "https://overpass-turbo.eu\n",
    "\n",
    "1. Nodes -- Musical instrument shops in Berlin\n",
    "```\n",
    "node\n",
    "  [shop=musical_instrument]\n",
    "  ({{bbox}});\n",
    "out;\n",
    "```\n",
    "\n",
    "2. Ways / Areas -- Beaches around Krumme Lanke\n",
    "```\n",
    "way\n",
    "  [natural=beach]\n",
    "  ({{bbox}});\n",
    "(._;>;);\n",
    "out;\n",
    "```\n",
    "\n",
    "3. Relations -- Technische Universitaet Berlin (Ernst-Reuter-Platz)\n",
    "```\n",
    "relation\n",
    "  [amenity=university]\n",
    "  ({{bbox}});\n",
    "(._;>;);\n",
    "out;\n",
    "```\n"
   ]
  },
  {
   "cell_type": "code",
   "execution_count": 13,
   "metadata": {
    "slideshow": {
     "slide_type": "slide"
    }
   },
   "outputs": [
    {
     "name": "stdout",
     "output_type": "stream",
     "text": [
      "node(around:1500.0,52.5141669,13.3963586)[\"amenity\"=\"ice_cream\"]\n",
      "Found 6 ice cream places\n",
      "{\n",
      "  \"type\": \"FeatureCollection\",\n",
      "  \"features\": [\n",
      "    {\n",
      "      \"type\": \"Feature\",\n",
      "      \"id\": 918134578,\n",
      "      \"geometry\": {\n",
      "        \"type\": \"Point\",\n",
      "        \"coordinates\": [\n",
      "          13.3898891,\n",
      "          52.5075334\n",
      "        ]\n",
      "      },\n",
      "      \"properties\": {\n",
      "        \"amenity\": \"ice_cream\",\n",
      "        \"ice_cream_counter\": \"yes\",\n",
      "        \"name\": \"kalter Krieg\",\n",
      "        \"shop\": \"ice_cream\",\n",
      "        \"website\": \"http://www.kalterkrieg-berlin.de/\"\n",
      "      }\n",
      "    },\n",
      "    {\n",
      "      \"type\": \"Feature\",\n",
      "      \"id\": 960944159,\n",
      "      \"geometry\": {\n",
      "        \"type\": \"Point\",\n",
      "        \"coordinates\": [\n",
      "          13.3875824,\n",
      "          52.5264165\n",
      "        ]\n",
      "      },\n",
      "      \"properties\": {\n",
      "        \"amenity\": \"ice_cream\",\n",
      "        \"cuisine\": \"ice_cream\",\n",
      "        \"name\": \"Eishorn\"\n",
      "      }\n",
      "    },\n",
      "    {\n",
      "      \"type\": \"Feature\",\n",
      "      \"id\": 2033283081,\n",
      "      \"geometry\": {\n",
      "        \"type\": \"Point\",\n",
      "        \"coordinates\": [\n",
      "          13.4021071,\n",
      "          52.5242166\n",
      "        ]\n",
      "      },\n",
      "      \"properties\": {\n",
      "        \"addr:city\": \"Berlin\",\n",
      "        \"addr:country\": \"DE\",\n",
      "        \"addr:housename\": \"Hackesche H\\u00f6fe, Hof 1\",\n",
      "        \"addr:housenumber\": \"40-41\",\n",
      "        \"addr:postcode\": \"10178\",\n",
      "        \"addr:street\": \"Rosenthaler Stra\\u00dfe\",\n",
      "        \"addr:suburb\": \"Mitte\",\n",
      "        \"amenity\": \"ice_cream\",\n",
      "        \"name\": \"Waffel oder Becher\",\n",
      "        \"website\": \"http://waffeloderbecher.com/\",\n",
      "        \"wheelchair\": \"yes\"\n",
      "      }\n",
      "    },\n",
      "    {\n",
      "      \"type\": \"Feature\",\n",
      "      \"id\": 3895256385,\n",
      "      \"geometry\": {\n",
      "        \"type\": \"Point\",\n",
      "        \"coordinates\": [\n",
      "          13.4081822,\n",
      "          52.5243114\n",
      "        ]\n",
      "      },\n",
      "      \"properties\": {\n",
      "        \"addr:city\": \"Berlin\",\n",
      "        \"addr:country\": \"DE\",\n",
      "        \"addr:housenumber\": \"11b\",\n",
      "        \"addr:postcode\": \"10178\",\n",
      "        \"addr:street\": \"M\\u00fcnzstra\\u00dfe\",\n",
      "        \"addr:suburb\": \"Mitte\",\n",
      "        \"amenity\": \"ice_cream\",\n",
      "        \"cuisine\": \"frozen_yogurt\",\n",
      "        \"name\": \"Yoli\",\n",
      "        \"opening_hours\": \"Mo-Sa 12:00-20:00; Su 13:00-20:00\",\n",
      "        \"website\": \"http://www.yoli-berlin.de/\",\n",
      "        \"wheelchair\": \"no\"\n",
      "      }\n",
      "    },\n",
      "    {\n",
      "      \"type\": \"Feature\",\n",
      "      \"id\": 4171763238,\n",
      "      \"geometry\": {\n",
      "        \"type\": \"Point\",\n",
      "        \"coordinates\": [\n",
      "          13.3797281,\n",
      "          52.5099105\n",
      "        ]\n",
      "      },\n",
      "      \"properties\": {\n",
      "        \"addr:city\": \"Berlin\",\n",
      "        \"addr:housenumber\": \"12\",\n",
      "        \"addr:postcode\": \"10117\",\n",
      "        \"addr:street\": \"Leipziger Platz\",\n",
      "        \"amenity\": \"ice_cream\",\n",
      "        \"contact:website\": \"www.alteatro.de\",\n",
      "        \"level\": \"1\",\n",
      "        \"name\": \"al teatro\",\n",
      "        \"source\": \"survey\",\n",
      "        \"toilets\": \"yes\",\n",
      "        \"toilets:access\": \"customers\"\n",
      "      }\n",
      "    },\n",
      "    {\n",
      "      \"type\": \"Feature\",\n",
      "      \"id\": 4283150546,\n",
      "      \"geometry\": {\n",
      "        \"type\": \"Point\",\n",
      "        \"coordinates\": [\n",
      "          13.3984353,\n",
      "          52.5069067\n",
      "        ]\n",
      "      },\n",
      "      \"properties\": {\n",
      "        \"amenity\": \"ice_cream\",\n",
      "        \"name\": \"Fedora Eismanufaktur\",\n",
      "        \"toilets:wheelchair\": \"no\",\n",
      "        \"wheelchair\": \"yes\"\n",
      "      }\n",
      "    }\n",
      "  ]\n",
      "}\n"
     ]
    }
   ],
   "source": [
    "import overpass\n",
    "import json\n",
    "api = overpass.API()\n",
    "radius = 1500.0\n",
    "query = 'node(around:{},{},{})[\"amenity\"=\"ice_cream\"]'.format(radius, king_latitude, king_longitude)\n",
    "print(query)\n",
    "response = api.get(query)\n",
    "print('Found {} ice cream places'.format(len(response['features'])))\n",
    "print(json.dumps(response, indent=2))\n",
    "features = response['features']"
   ]
  },
  {
   "cell_type": "markdown",
   "metadata": {},
   "source": [
    "What is the straight line distance from King to the ice cream place?\n",
    "\n",
    "Use the [geodesic distance](https://en.wikipedia.org/wiki/Geodesics_on_an_ellipsoid) which is an ellipsoidal-surface formulae\n",
    "Alternatively one can use the [great circle distance](https://en.wikipedia.org/wiki/Great-circle_distance) which is a spherical surface formulae of the geographic distance\n",
    "\n",
    "More on geographical distances [Geographical distance](https://en.wikipedia.org/wiki/Geographical_distance)"
   ]
  },
  {
   "cell_type": "code",
   "execution_count": 14,
   "metadata": {},
   "outputs": [
    {
     "name": "stdout",
     "output_type": "stream",
     "text": [
      "Geodesic dist:  819.67 m\tRoad dist:  nan m\tFedora Eismanufaktur\n",
      "Geodesic dist:  858.00 m\tRoad dist:  nan m\tkalter Krieg\n",
      "Geodesic dist:  1183.56 m\tRoad dist:  nan m\tWaffel oder Becher\n",
      "Geodesic dist:  1221.24 m\tRoad dist:  nan m\tal teatro\n",
      "Geodesic dist:  1383.30 m\tRoad dist:  nan m\tYoli\n",
      "Geodesic dist:  1486.32 m\tRoad dist:  nan m\tEishorn\n"
     ]
    }
   ],
   "source": [
    "from geopy import distance\n",
    "king = (king_latitude, king_longitude)\n",
    "\n",
    "class IceCream:\n",
    "    def __init__(self, lat, lon, name, geodesic_dist):\n",
    "        self.lat = lat\n",
    "        self.lon = lon\n",
    "        self.name = name\n",
    "        self.geodesic_dist = geodesic_dist\n",
    "        self.road_dist = float('nan')\n",
    "    def __str__(self):\n",
    "        return 'Geodesic dist: {: 4.2f} m\\tRoad dist: {: 4.2f} m\\t{}'.format(self.geodesic_dist, self.road_dist, self.name)\n",
    "        \n",
    "ice_creams = []\n",
    "\n",
    "\n",
    "for feature in features:\n",
    "    name = feature['properties'].get('name', 'N/A')\n",
    "    lat = feature['geometry']['coordinates'][1]\n",
    "    lon = feature['geometry']['coordinates'][0]\n",
    "    d = distance.great_circle(king, (lat, lon)).m\n",
    "    ice_creams.append(IceCream(lat, lon, name, d))\n",
    "    \n",
    "ice_creams = sorted(ice_creams, key=lambda x: x.geodesic_dist)\n",
    "for ice_cream in ice_creams:\n",
    "    print(ice_cream)"
   ]
  },
  {
   "cell_type": "code",
   "execution_count": 15,
   "metadata": {
    "collapsed": true
   },
   "outputs": [],
   "source": [
    "from pyroutelib3 import Router # Import the router\n",
    "router = Router('foot') # Initialise it"
   ]
  },
  {
   "cell_type": "code",
   "execution_count": 16,
   "metadata": {},
   "outputs": [
    {
     "name": "stdout",
     "output_type": "stream",
     "text": [
      "Start node id in osm is  29207837\n"
     ]
    }
   ],
   "source": [
    "start = router.data.findNode(king_latitude, king_longitude) # Find start and end nodes\n",
    "print('Start node id in osm is ', start)"
   ]
  },
  {
   "cell_type": "code",
   "execution_count": 17,
   "metadata": {},
   "outputs": [
    {
     "name": "stdout",
     "output_type": "stream",
     "text": [
      "Geodesic dist:  819.67 m\tRoad dist:  1079.49 m\tFedora Eismanufaktur\n",
      "Geodesic dist:  858.00 m\tRoad dist:  1168.23 m\tkalter Krieg\n",
      "Geodesic dist:  1183.56 m\tRoad dist:  1705.92 m\tWaffel oder Becher\n",
      "Geodesic dist:  1221.24 m\tRoad dist:  1598.76 m\tal teatro\n",
      "Geodesic dist:  1383.30 m\tRoad dist:  1701.85 m\tYoli\n",
      "Geodesic dist:  1486.32 m\tRoad dist:  1902.63 m\tEishorn\n"
     ]
    }
   ],
   "source": [
    "def route_length(route):\n",
    "    d = 0\n",
    "    for i in range(len(route)-1):\n",
    "        d += router.distance(route[i], route[i+1])\n",
    "    # distance is in km, multiplying by 1000 to get meters\n",
    "    return d*1000\n",
    "\n",
    "for ice_cream in ice_creams:\n",
    "    end = router.data.findNode(ice_cream.lat, ice_cream.lon)\n",
    "    #print(end)\n",
    "    status, route = router.doRoute(start, end) # Find the route - a list of OSM nodes\n",
    "\n",
    "    if status == 'success':\n",
    "        #routeLatLons = list(map(router.nodeLatLon, route)) # Get actual route coordinates\n",
    "        #print(routeLatLons)\n",
    "        ice_cream.road_dist = route_length(route)\n",
    "        print(ice_cream)\n"
   ]
  },
  {
   "cell_type": "code",
   "execution_count": null,
   "metadata": {
    "collapsed": true
   },
   "outputs": [],
   "source": []
  }
 ],
 "metadata": {
  "kernelspec": {
   "display_name": "Python 3",
   "language": "python",
   "name": "python3"
  },
  "language_info": {
   "codemirror_mode": {
    "name": "ipython",
    "version": 3
   },
   "file_extension": ".py",
   "mimetype": "text/x-python",
   "name": "python",
   "nbconvert_exporter": "python",
   "pygments_lexer": "ipython3",
   "version": "3.6.1"
  }
 },
 "nbformat": 4,
 "nbformat_minor": 2
}
